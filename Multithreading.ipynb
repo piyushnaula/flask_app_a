{
 "cells": [
  {
   "cell_type": "code",
   "execution_count": 1,
   "metadata": {},
   "outputs": [],
   "source": [
    "import threading"
   ]
  },
  {
   "cell_type": "code",
   "execution_count": 2,
   "metadata": {},
   "outputs": [],
   "source": [
    "def test(id):\n",
    "    print(\"Program start %d\"%id)"
   ]
  },
  {
   "cell_type": "code",
   "execution_count": 3,
   "metadata": {},
   "outputs": [
    {
     "name": "stdout",
     "output_type": "stream",
     "text": [
      "Program start 45\n"
     ]
    }
   ],
   "source": [
    "test(45)"
   ]
  },
  {
   "cell_type": "code",
   "execution_count": 4,
   "metadata": {},
   "outputs": [],
   "source": [
    "thread=[threading.Thread(target=test, args=(i,)) for i in range(5)]"
   ]
  },
  {
   "cell_type": "code",
   "execution_count": 5,
   "metadata": {},
   "outputs": [
    {
     "name": "stdout",
     "output_type": "stream",
     "text": [
      "Program start 0\n",
      "Program start 1\n",
      "Program start 2\n",
      "Program start 3\n",
      "Program start 4\n"
     ]
    }
   ],
   "source": [
    "for i in thread :\n",
    "    i.start()"
   ]
  },
  {
   "cell_type": "code",
   "execution_count": 6,
   "metadata": {},
   "outputs": [
    {
     "data": {
      "text/plain": [
       "[<Thread(Thread-5 (test), stopped 18792)>,\n",
       " <Thread(Thread-6 (test), stopped 10356)>,\n",
       " <Thread(Thread-7 (test), stopped 9540)>,\n",
       " <Thread(Thread-8 (test), stopped 1460)>,\n",
       " <Thread(Thread-9 (test), stopped 8852)>]"
      ]
     },
     "execution_count": 6,
     "metadata": {},
     "output_type": "execute_result"
    }
   ],
   "source": [
    "thread"
   ]
  },
  {
   "cell_type": "code",
   "execution_count": 7,
   "metadata": {},
   "outputs": [
    {
     "data": {
      "text/plain": [
       "2528881870848"
      ]
     },
     "execution_count": 7,
     "metadata": {},
     "output_type": "execute_result"
    }
   ],
   "source": [
    "id(thread)"
   ]
  },
  {
   "cell_type": "code",
   "execution_count": 10,
   "metadata": {},
   "outputs": [],
   "source": [
    "import threading\n",
    "import urllib.request\n",
    "def file_download(url, filename):\n",
    "    urllib.request.urlretrieve(url,filename)"
   ]
  },
  {
   "cell_type": "code",
   "execution_count": 12,
   "metadata": {},
   "outputs": [],
   "source": [
    "file_download('https://raw.githubusercontent.com/itsfoss/text-files/master/agatha.txt', \"test.txt\")"
   ]
  },
  {
   "cell_type": "code",
   "execution_count": 13,
   "metadata": {},
   "outputs": [],
   "source": [
    "url_list=['https://raw.githubusercontent.com/itsfoss/text-files/master/agatha.txt','https://raw.githubusercontent.com/itsfoss/text-files/master/sherlock.txt','https://raw.githubusercontent.com/itsfoss/text-files/master/sample_log_file.txt']"
   ]
  },
  {
   "cell_type": "code",
   "execution_count": 14,
   "metadata": {},
   "outputs": [
    {
     "data": {
      "text/plain": [
       "['https://raw.githubusercontent.com/itsfoss/text-files/master/agatha.txt',\n",
       " 'https://raw.githubusercontent.com/itsfoss/text-files/master/sherlock.txt',\n",
       " 'https://raw.githubusercontent.com/itsfoss/text-files/master/sample_log_file.txt']"
      ]
     },
     "execution_count": 14,
     "metadata": {},
     "output_type": "execute_result"
    }
   ],
   "source": [
    "url_list"
   ]
  },
  {
   "cell_type": "code",
   "execution_count": 15,
   "metadata": {},
   "outputs": [],
   "source": [
    "file_name_list=['data1.txt', 'data2.txt', 'data3.txt']"
   ]
  },
  {
   "cell_type": "code",
   "execution_count": 16,
   "metadata": {},
   "outputs": [],
   "source": [
    "thread=[threading.Thread(target=file_download, args=(url_list[i],file_name_list[i])) for i in range(len(url_list))]"
   ]
  },
  {
   "cell_type": "code",
   "execution_count": 17,
   "metadata": {},
   "outputs": [],
   "source": [
    "for i in thread:\n",
    "    i.start()"
   ]
  },
  {
   "cell_type": "code",
   "execution_count": 18,
   "metadata": {},
   "outputs": [
    {
     "data": {
      "text/plain": [
       "[<Thread(Thread-10 (file_download), stopped 12816)>,\n",
       " <Thread(Thread-11 (file_download), stopped 10008)>,\n",
       " <Thread(Thread-12 (file_download), stopped 15860)>]"
      ]
     },
     "execution_count": 18,
     "metadata": {},
     "output_type": "execute_result"
    }
   ],
   "source": [
    "thread"
   ]
  },
  {
   "cell_type": "code",
   "execution_count": 19,
   "metadata": {},
   "outputs": [],
   "source": [
    "import time"
   ]
  },
  {
   "cell_type": "code",
   "execution_count": 20,
   "metadata": {},
   "outputs": [],
   "source": [
    "def test1(id):\n",
    "    for i in range(5):\n",
    "        print(\"test1 %d printing %d\"%(id,i))\n",
    "        time.sleep(1)"
   ]
  },
  {
   "cell_type": "code",
   "execution_count": 21,
   "metadata": {},
   "outputs": [
    {
     "name": "stdout",
     "output_type": "stream",
     "text": [
      "test1 1 printing 0\n",
      "test1 1 printing 1\n",
      "test1 1 printing 2\n",
      "test1 1 printing 3\n",
      "test1 1 printing 4\n"
     ]
    }
   ],
   "source": [
    "test1(1)"
   ]
  },
  {
   "cell_type": "code",
   "execution_count": 22,
   "metadata": {},
   "outputs": [],
   "source": [
    "thread1=[threading.Thread(target=test1,args=(i,)) for i in range(3)]"
   ]
  },
  {
   "cell_type": "code",
   "execution_count": 23,
   "metadata": {},
   "outputs": [
    {
     "name": "stdout",
     "output_type": "stream",
     "text": [
      "test1 0 printing 0\n",
      "test1 1 printing 0\n",
      "test1 2 printing 0\n"
     ]
    },
    {
     "name": "stdout",
     "output_type": "stream",
     "text": [
      "test1 0 printing 1\n",
      "test1 1 printing 1\n",
      "test1 2 printing 1\n",
      "test1 0 printing 2\n",
      "test1 1 printing 2\n",
      "test1 2 printing 2\n",
      "test1 0 printing 3\n",
      "test1 1 printing 3\n",
      "test1 2 printing 3\n",
      "test1 0 printing 4\n",
      "test1 1 printing 4\n",
      "test1 2 printing 4\n"
     ]
    }
   ],
   "source": [
    "for i in thread1:\n",
    "    i.start()"
   ]
  },
  {
   "cell_type": "code",
   "execution_count": 24,
   "metadata": {},
   "outputs": [],
   "source": [
    "import threading"
   ]
  },
  {
   "cell_type": "code",
   "execution_count": 25,
   "metadata": {},
   "outputs": [],
   "source": [
    "import urllib.request\n",
    "def file_download(url,filename):\n",
    "    urllib.request.urlretrieve(url,filename)"
   ]
  },
  {
   "cell_type": "code",
   "execution_count": 26,
   "metadata": {},
   "outputs": [],
   "source": [
    "url_list=['https://raw.githubusercontent.com/itsfoss/text-files/master/agatha.txt','https://raw.githubusercontent.com/itsfoss/text-files/master/sherlock.txt','https://raw.githubusercontent.com/itsfoss/text-files/master/sample_log_file.txt']"
   ]
  },
  {
   "cell_type": "code",
   "execution_count": 27,
   "metadata": {},
   "outputs": [],
   "source": [
    "file_name=['data1.txt', 'data2.txt', 'data3.txt']"
   ]
  },
  {
   "cell_type": "code",
   "execution_count": 28,
   "metadata": {},
   "outputs": [],
   "source": [
    "thre=[threading.Thread(target=file_download, args=(url_list[i],file_name[i])) for i in range(len(url_list))]"
   ]
  },
  {
   "cell_type": "code",
   "execution_count": 29,
   "metadata": {},
   "outputs": [],
   "source": [
    "for i in thre:\n",
    "    i.start()"
   ]
  },
  {
   "cell_type": "code",
   "execution_count": 30,
   "metadata": {},
   "outputs": [],
   "source": [
    "import time\n",
    "def test(id):\n",
    "    for i in range(5):\n",
    "        print(\"start %d print %d time %s\"%(id,i,time.ctime()))\n",
    "        time.sleep(1)"
   ]
  },
  {
   "cell_type": "code",
   "execution_count": 31,
   "metadata": {},
   "outputs": [
    {
     "name": "stdout",
     "output_type": "stream",
     "text": [
      "start 4 print 0 time Sun Aug 25 19:55:28 2024\n",
      "start 4 print 1 time Sun Aug 25 19:55:29 2024\n",
      "start 4 print 2 time Sun Aug 25 19:55:30 2024\n",
      "start 4 print 3 time Sun Aug 25 19:55:31 2024\n",
      "start 4 print 4 time Sun Aug 25 19:55:32 2024\n"
     ]
    }
   ],
   "source": [
    "test(4)"
   ]
  },
  {
   "cell_type": "code",
   "execution_count": 32,
   "metadata": {},
   "outputs": [],
   "source": [
    "thread=[threading.Thread(target=test, args=(i,)) for i in range(3)]"
   ]
  },
  {
   "cell_type": "code",
   "execution_count": 33,
   "metadata": {},
   "outputs": [
    {
     "name": "stdout",
     "output_type": "stream",
     "text": [
      "start 0 print 0 time Sun Aug 25 19:56:26 2024\n",
      "start 1 print 0 time Sun Aug 25 19:56:26 2024\n",
      "start 2 print 0 time Sun Aug 25 19:56:26 2024\n"
     ]
    },
    {
     "name": "stdout",
     "output_type": "stream",
     "text": [
      "start 0 print 1 time Sun Aug 25 19:56:27 2024\n",
      "start 1 print 1 time Sun Aug 25 19:56:27 2024\n",
      "start 2 print 1 time Sun Aug 25 19:56:27 2024\n",
      "start 0 print 2 time Sun Aug 25 19:56:28 2024\n",
      "start 2 print 2 time Sun Aug 25 19:56:28 2024\n",
      "start 1 print 2 time Sun Aug 25 19:56:28 2024\n",
      "start 0 print 3 time Sun Aug 25 19:56:29 2024\n",
      "start 2 print 3 time Sun Aug 25 19:56:29 2024\n",
      "start 1 print 3 time Sun Aug 25 19:56:29 2024\n",
      "start 0 print 4 time Sun Aug 25 19:56:30 2024\n",
      "start 1 print 4 time Sun Aug 25 19:56:30 2024\n",
      "start 2 print 4 time Sun Aug 25 19:56:30 2024\n"
     ]
    }
   ],
   "source": [
    "for i in thread:\n",
    "    i.start()"
   ]
  },
  {
   "cell_type": "code",
   "execution_count": 34,
   "metadata": {},
   "outputs": [],
   "source": [
    "shared_var=0\n",
    "lock_var=threading.Lock()"
   ]
  },
  {
   "cell_type": "code",
   "execution_count": 35,
   "metadata": {},
   "outputs": [],
   "source": [
    "def test2(id):\n",
    "    global shared_var\n",
    "    with lock_var:\n",
    "        shared_var+=1\n",
    "        print(\"test2 id is %d has increased the shared variable by %d\"%(id,shared_var))\n",
    "        time.sleep(1)"
   ]
  },
  {
   "cell_type": "code",
   "execution_count": 36,
   "metadata": {},
   "outputs": [],
   "source": [
    "thread3=[threading.Thread(target=test2,args=(id,)) for id in range(3)]"
   ]
  },
  {
   "cell_type": "code",
   "execution_count": 37,
   "metadata": {},
   "outputs": [
    {
     "data": {
      "text/plain": [
       "[<Thread(Thread-22 (test2), initial)>,\n",
       " <Thread(Thread-23 (test2), initial)>,\n",
       " <Thread(Thread-24 (test2), initial)>]"
      ]
     },
     "execution_count": 37,
     "metadata": {},
     "output_type": "execute_result"
    }
   ],
   "source": [
    "thread3"
   ]
  },
  {
   "cell_type": "code",
   "execution_count": 38,
   "metadata": {},
   "outputs": [
    {
     "name": "stdout",
     "output_type": "stream",
     "text": [
      "test2 id is 0 has increased the shared variable by 1\n"
     ]
    },
    {
     "name": "stdout",
     "output_type": "stream",
     "text": [
      "test2 id is 1 has increased the shared variable by 2\n",
      "test2 id is 2 has increased the shared variable by 3\n"
     ]
    }
   ],
   "source": [
    "for i in thread3:\n",
    "    i.start()"
   ]
  },
  {
   "cell_type": "code",
   "execution_count": null,
   "metadata": {},
   "outputs": [],
   "source": []
  }
 ],
 "metadata": {
  "kernelspec": {
   "display_name": "Python 3",
   "language": "python",
   "name": "python3"
  },
  "language_info": {
   "codemirror_mode": {
    "name": "ipython",
    "version": 3
   },
   "file_extension": ".py",
   "mimetype": "text/x-python",
   "name": "python",
   "nbconvert_exporter": "python",
   "pygments_lexer": "ipython3",
   "version": "3.12.5"
  }
 },
 "nbformat": 4,
 "nbformat_minor": 2
}
